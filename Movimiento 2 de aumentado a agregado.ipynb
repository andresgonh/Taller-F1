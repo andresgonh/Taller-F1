{
 "cells": [
  {
   "cell_type": "markdown",
   "metadata": {
    "application/vnd.databricks.v1+cell": {
     "cellMetadata": {},
     "inputWidgets": {},
     "nuid": "3e4b1d78-ba61-45ad-a4df-08cfcb2e4f00",
     "showTitle": false,
     "title": ""
    }
   },
   "source": [
    "# Mover información cruda a aumentada"
   ]
  },
  {
   "cell_type": "markdown",
   "metadata": {
    "application/vnd.databricks.v1+cell": {
     "cellMetadata": {},
     "inputWidgets": {},
     "nuid": "8181ab46-0243-4993-834b-70a06e7b0b84",
     "showTitle": false,
     "title": ""
    }
   },
   "source": [
    "## Importamos librerías"
   ]
  },
  {
   "cell_type": "code",
   "execution_count": 0,
   "metadata": {
    "application/vnd.databricks.v1+cell": {
     "cellMetadata": {
      "byteLimit": 2048000,
      "rowLimit": 10000
     },
     "inputWidgets": {},
     "nuid": "4de2bdb0-c7ce-4ea6-82f1-6809984fe60a",
     "showTitle": false,
     "title": ""
    }
   },
   "outputs": [],
   "source": [
    "from pyspark.sql.types import *\n",
    "from pyspark.sql.functions import *\n",
    "import uuid"
   ]
  },
  {
   "cell_type": "markdown",
   "metadata": {
    "application/vnd.databricks.v1+cell": {
     "cellMetadata": {},
     "inputWidgets": {},
     "nuid": "5dfdbc0e-fc61-4912-a935-20f762f947b8",
     "showTitle": false,
     "title": ""
    }
   },
   "source": [
    "## Creamos variables claves del proyecto"
   ]
  },
  {
   "cell_type": "code",
   "execution_count": 0,
   "metadata": {
    "application/vnd.databricks.v1+cell": {
     "cellMetadata": {
      "byteLimit": 2048000,
      "rowLimit": 10000
     },
     "inputWidgets": {},
     "nuid": "f49e0067-9377-4101-ad75-f105c724d5e3",
     "showTitle": false,
     "title": ""
    }
   },
   "outputs": [],
   "source": [
    "# Variables de ubicación de archivos\n",
    "uc_location_aumented = 'medallion_architecture.aumented.'\n",
    "uc_location_agregated = 'medallion_architecture.aggregated.'\n",
    "\n",
    "# Otras variables\n",
    "date_format = 'dd/MM/yyyy'"
   ]
  },
  {
   "cell_type": "markdown",
   "metadata": {
    "application/vnd.databricks.v1+cell": {
     "cellMetadata": {},
     "inputWidgets": {},
     "nuid": "923de95a-d97c-4389-b109-21e92d212b22",
     "showTitle": false,
     "title": ""
    }
   },
   "source": [
    "## Creamos schemas para las diferentes tablas a leer"
   ]
  },
  {
   "cell_type": "markdown",
   "metadata": {
    "application/vnd.databricks.v1+cell": {
     "cellMetadata": {},
     "inputWidgets": {},
     "nuid": "4d27b1b9-c6fc-4b44-b806-3e78b9d46683",
     "showTitle": false,
     "title": ""
    }
   },
   "source": [
    "### Schema para las tablas transaccionales"
   ]
  },
  {
   "cell_type": "code",
   "execution_count": 0,
   "metadata": {
    "application/vnd.databricks.v1+cell": {
     "cellMetadata": {
      "byteLimit": 2048000,
      "rowLimit": 10000
     },
     "inputWidgets": {},
     "nuid": "7afb1bd5-c032-4d3f-b8a3-3d8cb2e5874e",
     "showTitle": false,
     "title": ""
    }
   },
   "outputs": [],
   "source": [
    "df_transaction_schema = StructType(\n",
    "  fields=[\n",
    "    StructField('SHOP_WEEK', StringType(),True),\n",
    "    StructField('SHOP_DATE', StringType(), True),\n",
    "    StructField('SHOP_WEEKDAY',  StringType(), True),\n",
    "    StructField('SHOP_HOUR', StringType(), True),\n",
    "    StructField('QUANTITY', DoubleType(), True),\n",
    "    StructField('SPEND', DoubleType(), True),\n",
    "    StructField('PROD_CODE', StringType(), True),\n",
    "    StructField('PROD_CODE_10', StringType(), True),\n",
    "    StructField('PROD_CODE_20', StringType(), True),\n",
    "    StructField('PROD_CODE_30', StringType(), True),\n",
    "    StructField('PROD_CODE_40', StringType(), True),\n",
    "    StructField('CUST_CODE', StringType(), True),\n",
    "    StructField('seg_1', StringType(), True),\n",
    "    StructField('seg_2', StringType(), True),\n",
    "    StructField('BASKET_ID', StringType(), True),\n",
    "    StructField('BASKET_SIZE', StringType(), True),\n",
    "    StructField('BASKET_PRICE_SENSITIVITY', StringType(), True),\n",
    "    StructField('BASKET_TYPE', StringType(), True),\n",
    "    StructField('BASKET_DOMINANT_MISSION', StringType(), True),\n",
    "    StructField('STORE_CODE', StringType(), True),\n",
    "    StructField('STORE_FORMAT', StringType(), True),\n",
    "    StructField('STORE_REGION', StringType(), True)\n",
    "])"
   ]
  },
  {
   "cell_type": "markdown",
   "metadata": {
    "application/vnd.databricks.v1+cell": {
     "cellMetadata": {},
     "inputWidgets": {},
     "nuid": "275f3e4e-e7d6-49f7-8815-e653ca7eed70",
     "showTitle": false,
     "title": ""
    }
   },
   "source": [
    "### Schema para las tablas de fecha"
   ]
  },
  {
   "cell_type": "code",
   "execution_count": 0,
   "metadata": {
    "application/vnd.databricks.v1+cell": {
     "cellMetadata": {
      "byteLimit": 2048000,
      "rowLimit": 10000
     },
     "inputWidgets": {},
     "nuid": "3c32c072-aa6d-4a14-b1e2-51a370eea4e6",
     "showTitle": false,
     "title": ""
    }
   },
   "outputs": [],
   "source": [
    "df_time_schema = StructType(\n",
    "  fields=[\n",
    "    StructField('shop_week', StringType(),True),\n",
    "    StructField('date_from', StringType(), True),\n",
    "    StructField('date_to',  StringType(), True)\n",
    "])"
   ]
  },
  {
   "cell_type": "markdown",
   "metadata": {
    "application/vnd.databricks.v1+cell": {
     "cellMetadata": {},
     "inputWidgets": {},
     "nuid": "cdc5bb56-8b85-4197-9aaf-4751a8c866fb",
     "showTitle": false,
     "title": ""
    }
   },
   "source": [
    "## Unity Catalog"
   ]
  },
  {
   "cell_type": "code",
   "execution_count": 0,
   "metadata": {
    "application/vnd.databricks.v1+cell": {
     "cellMetadata": {
      "byteLimit": 2048000,
      "implicitDf": true,
      "rowLimit": 10000
     },
     "inputWidgets": {},
     "nuid": "9b4a8337-0054-414f-a2a0-693b8a910a0a",
     "showTitle": false,
     "title": ""
    }
   },
   "outputs": [],
   "source": [
    "%sql\n",
    "CREATE SCHEMA IF NOT EXISTS medallion_architecture.aggregated\n",
    "COMMENT 'En este schema va a ir guardada la informacion agregada'\n",
    ";"
   ]
  },
  {
   "cell_type": "markdown",
   "metadata": {
    "application/vnd.databricks.v1+cell": {
     "cellMetadata": {},
     "inputWidgets": {},
     "nuid": "d94736ed-9e99-41e0-8968-19168243a01e",
     "showTitle": false,
     "title": ""
    }
   },
   "source": [
    "## Ejecución del código"
   ]
  },
  {
   "cell_type": "code",
   "execution_count": 0,
   "metadata": {
    "application/vnd.databricks.v1+cell": {
     "cellMetadata": {
      "byteLimit": 2048000,
      "implicitDf": true,
      "rowLimit": 10000
     },
     "inputWidgets": {},
     "nuid": "33c467e2-ccee-4fbe-814a-677713e0d479",
     "showTitle": false,
     "title": ""
    }
   },
   "outputs": [],
   "source": [
    "%sql\n",
    "CREATE TABLE IF NOT EXISTS medallion_architecture.aggregated.customers AS\n",
    "SELECT \n",
    "  CUST_CODE, seg_1, seg_2 \n",
    "FROM\n",
    "  medallion_architecture.aumented.transactions\n",
    "GROUP BY \n",
    "  CUST_CODE, seg_1, seg_2\n",
    ";"
   ]
  },
  {
   "cell_type": "code",
   "execution_count": 0,
   "metadata": {
    "application/vnd.databricks.v1+cell": {
     "cellMetadata": {
      "byteLimit": 2048000,
      "implicitDf": true,
      "rowLimit": 10000
     },
     "inputWidgets": {},
     "nuid": "4df77189-1491-455b-9690-fa283701fef6",
     "showTitle": false,
     "title": ""
    }
   },
   "outputs": [],
   "source": [
    "%sql\n",
    "CREATE TABLE IF NOT EXISTS medallion_architecture.aggregated.products AS\n",
    "SELECT \n",
    "  PROD_CODE, PROD_CODE_10, PROD_CODE_20, PROD_CODE_30, PROD_CODE_40 \n",
    "FROM\n",
    "  medallion_architecture.aumented.transactions\n",
    "GROUP BY \n",
    "  PROD_CODE, PROD_CODE_10, PROD_CODE_20, PROD_CODE_30, PROD_CODE_40\n",
    ";"
   ]
  },
  {
   "cell_type": "code",
   "execution_count": 0,
   "metadata": {
    "application/vnd.databricks.v1+cell": {
     "cellMetadata": {
      "byteLimit": 2048000,
      "implicitDf": true,
      "rowLimit": 10000
     },
     "inputWidgets": {},
     "nuid": "bbdb50d4-5a25-4758-910d-c52c6ec3f17d",
     "showTitle": false,
     "title": ""
    }
   },
   "outputs": [],
   "source": [
    "%sql\n",
    "CREATE TABLE IF NOT EXISTS medallion_architecture.aggregated.baskets AS\n",
    "SELECT \n",
    "  BASKET_ID, BASKET_SIZE, BASKET_PRICE_SENSITIVITY, BASKET_TYPE, BASKET_DOMINANT_MISSION, SHOP_WEEK, SHOP_DATE, SHOP_HOUR\n",
    "FROM\n",
    "  medallion_architecture.aumented.transactions\n",
    "GROUP BY \n",
    "  BASKET_ID, BASKET_SIZE, BASKET_PRICE_SENSITIVITY, BASKET_TYPE, BASKET_DOMINANT_MISSION, SHOP_WEEK, SHOP_DATE, SHOP_HOUR\n",
    ";"
   ]
  },
  {
   "cell_type": "code",
   "execution_count": 0,
   "metadata": {
    "application/vnd.databricks.v1+cell": {
     "cellMetadata": {
      "byteLimit": 2048000,
      "implicitDf": true,
      "rowLimit": 10000
     },
     "inputWidgets": {},
     "nuid": "c0464607-5b10-48ce-b766-ba26f37a999a",
     "showTitle": false,
     "title": ""
    }
   },
   "outputs": [],
   "source": [
    "%sql\n",
    "CREATE TABLE IF NOT EXISTS medallion_architecture.aggregated.stores AS\n",
    "SELECT \n",
    "  STORE_CODE, STORE_FORMAT, STORE_REGION\n",
    "FROM\n",
    "  medallion_architecture.aumented.transactions\n",
    "GROUP BY \n",
    "  STORE_CODE, STORE_FORMAT, STORE_REGION\n",
    ";"
   ]
  },
  {
   "cell_type": "code",
   "execution_count": 0,
   "metadata": {
    "application/vnd.databricks.v1+cell": {
     "cellMetadata": {
      "byteLimit": 2048000,
      "implicitDf": true,
      "rowLimit": 10000
     },
     "inputWidgets": {},
     "nuid": "970fe0d1-d821-4f02-b73a-fba3268db844",
     "showTitle": false,
     "title": ""
    }
   },
   "outputs": [],
   "source": [
    "%sql\n",
    "CREATE TABLE IF NOT EXISTS medallion_architecture.aggregated.fact_table AS\n",
    "SELECT \n",
    "  PROD_CODE, CUST_CODE, BASKET_ID, STORE_CODE, QUANTITY, SPEND\n",
    "FROM\n",
    "  medallion_architecture.aumented.transactions\n",
    ";"
   ]
  },
  {
   "cell_type": "code",
   "execution_count": 0,
   "metadata": {
    "application/vnd.databricks.v1+cell": {
     "cellMetadata": {
      "byteLimit": 2048000,
      "implicitDf": true,
      "rowLimit": 10000
     },
     "inputWidgets": {},
     "nuid": "9eb95780-5348-462f-8bb1-d930a31ab56f",
     "showTitle": false,
     "title": ""
    }
   },
   "outputs": [],
   "source": [
    "%sql\n",
    "--DROP TABLE IF EXISTS medallion_architecture.aggregated.baskets;"
   ]
  }
 ],
 "metadata": {
  "application/vnd.databricks.v1+notebook": {
   "dashboards": [],
   "environmentMetadata": null,
   "language": "python",
   "notebookMetadata": {
    "mostRecentlyExecutedCommandWithImplicitDF": {
     "commandId": 2466283443489549,
     "dataframes": [
      "_sqldf"
     ]
    },
    "pythonIndentUnit": 4
   },
   "notebookName": "Movimiento 2 de aumentado a agregado",
   "widgets": {}
  }
 },
 "nbformat": 4,
 "nbformat_minor": 0
}
