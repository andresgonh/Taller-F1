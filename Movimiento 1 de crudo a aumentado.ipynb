{
 "cells": [
  {
   "cell_type": "markdown",
   "metadata": {
    "application/vnd.databricks.v1+cell": {
     "cellMetadata": {},
     "inputWidgets": {},
     "nuid": "3e4b1d78-ba61-45ad-a4df-08cfcb2e4f00",
     "showTitle": false,
     "tableResultSettingsMap": {},
     "title": ""
    }
   },
   "source": [
    "# Mover información cruda a aumentada"
   ]
  },
  {
   "cell_type": "markdown",
   "metadata": {
    "application/vnd.databricks.v1+cell": {
     "cellMetadata": {},
     "inputWidgets": {},
     "nuid": "8181ab46-0243-4993-834b-70a06e7b0b84",
     "showTitle": false,
     "tableResultSettingsMap": {},
     "title": ""
    }
   },
   "source": [
    "## Importamos librerías"
   ]
  },
  {
   "cell_type": "code",
   "execution_count": 0,
   "metadata": {
    "application/vnd.databricks.v1+cell": {
     "cellMetadata": {
      "byteLimit": 2048000,
      "rowLimit": 10000
     },
     "inputWidgets": {},
     "nuid": "4de2bdb0-c7ce-4ea6-82f1-6809984fe60a",
     "showTitle": false,
     "tableResultSettingsMap": {},
     "title": ""
    }
   },
   "outputs": [],
   "source": [
    "from pyspark.sql.types import *\n",
    "from pyspark.sql.functions import *\n",
    "import uuid"
   ]
  },
  {
   "cell_type": "markdown",
   "metadata": {
    "application/vnd.databricks.v1+cell": {
     "cellMetadata": {},
     "inputWidgets": {},
     "nuid": "5dfdbc0e-fc61-4912-a935-20f762f947b8",
     "showTitle": false,
     "tableResultSettingsMap": {},
     "title": ""
    }
   },
   "source": [
    "## Creamos variables claves del proyecto"
   ]
  },
  {
   "cell_type": "code",
   "execution_count": 0,
   "metadata": {
    "application/vnd.databricks.v1+cell": {
     "cellMetadata": {
      "byteLimit": 2048000,
      "rowLimit": 10000
     },
     "inputWidgets": {},
     "nuid": "f49e0067-9377-4101-ad75-f105c724d5e3",
     "showTitle": false,
     "tableResultSettingsMap": {},
     "title": ""
    }
   },
   "outputs": [],
   "source": [
    "# Variables de ubicación de archivos\n",
    "dl_location = 'abfss://dataengineering@datarepositoryg4jdurand1.dfs.core.windows.net/'\n",
    "raw_location = dl_location + 'RAW/'\n",
    "\n",
    "uc_location_aumented = 'medallion1_architecture.aumented.'\n",
    "\n",
    "# Otras variables\n",
    "date_format = 'dd/MM/yyyy'"
   ]
  },
  {
   "cell_type": "markdown",
   "metadata": {
    "application/vnd.databricks.v1+cell": {
     "cellMetadata": {},
     "inputWidgets": {},
     "nuid": "923de95a-d97c-4389-b109-21e92d212b22",
     "showTitle": false,
     "tableResultSettingsMap": {},
     "title": ""
    }
   },
   "source": [
    "## Creamos schemas para las diferentes tablas a leer"
   ]
  },
  {
   "cell_type": "markdown",
   "metadata": {
    "application/vnd.databricks.v1+cell": {
     "cellMetadata": {},
     "inputWidgets": {},
     "nuid": "4d27b1b9-c6fc-4b44-b806-3e78b9d46683",
     "showTitle": false,
     "tableResultSettingsMap": {},
     "title": ""
    }
   },
   "source": [
    "### Schema para las tablas de circuitos"
   ]
  },
  {
   "cell_type": "code",
   "execution_count": 0,
   "metadata": {
    "application/vnd.databricks.v1+cell": {
     "cellMetadata": {
      "byteLimit": 2048000,
      "rowLimit": 10000
     },
     "inputWidgets": {},
     "nuid": "b7348395-194d-4478-ad1b-6e727f8743d3",
     "showTitle": false,
     "tableResultSettingsMap": {},
     "title": ""
    }
   },
   "outputs": [],
   "source": [
    "\n",
    "\n",
    "# \n",
    "df_circuits_schema = StructType(\n",
    "  fields=[\n",
    "    StructField(\"circuitId\", IntegerType(), True),\n",
    "    StructField(\"circuitRef\", StringType(), True),\n",
    "    StructField(\"name\", StringType(), True),\n",
    "    StructField(\"location\", StringType(), True),\n",
    "    StructField(\"country\", StringType(), True),\n",
    "    StructField(\"lat\", DoubleType(), True),\n",
    "    StructField(\"lng\", DoubleType(), True),\n",
    "    StructField(\"alt\", IntegerType(), True),\n",
    "    StructField(\"url\", StringType(), True)\n",
    "])\n"
   ]
  },
  {
   "cell_type": "markdown",
   "metadata": {
    "application/vnd.databricks.v1+cell": {
     "cellMetadata": {},
     "inputWidgets": {},
     "nuid": "8194b969-f52b-4586-89dc-58aa3847f98f",
     "showTitle": false,
     "tableResultSettingsMap": {},
     "title": ""
    }
   },
   "source": [
    "### Schema para las tablas de razas"
   ]
  },
  {
   "cell_type": "code",
   "execution_count": 0,
   "metadata": {
    "application/vnd.databricks.v1+cell": {
     "cellMetadata": {
      "byteLimit": 2048000,
      "rowLimit": 10000
     },
     "inputWidgets": {},
     "nuid": "6e9d7b64-fd4d-49f2-aa04-f2b3d14fbd0d",
     "showTitle": false,
     "tableResultSettingsMap": {},
     "title": ""
    }
   },
   "outputs": [],
   "source": [
    "df_races_schema = StructType(\n",
    "  fields=[\n",
    "    StructField(\"raceId\", IntegerType(), True),\n",
    "    StructField(\"year\", IntegerType(), True),\n",
    "    StructField(\"round\", IntegerType(), True),\n",
    "    StructField(\"circuitId\", IntegerType(), True),\n",
    "    StructField(\"name\", StringType(), True),\n",
    "    StructField(\"date\", DateType(), True),  # El tipo de dato es DATE\n",
    "    StructField(\"time\", StringType(), True),  # Mantenemos STRING por si incluye hora\n",
    "    StructField(\"url\", StringType(), True)\n",
    "])"
   ]
  },
  {
   "cell_type": "markdown",
   "metadata": {
    "application/vnd.databricks.v1+cell": {
     "cellMetadata": {},
     "inputWidgets": {},
     "nuid": "275f3e4e-e7d6-49f7-8815-e653ca7eed70",
     "showTitle": false,
     "tableResultSettingsMap": {},
     "title": ""
    }
   },
   "source": [
    "### Schema para las tablas de constructor"
   ]
  },
  {
   "cell_type": "code",
   "execution_count": 0,
   "metadata": {
    "application/vnd.databricks.v1+cell": {
     "cellMetadata": {
      "byteLimit": 2048000,
      "rowLimit": 10000
     },
     "inputWidgets": {},
     "nuid": "3c32c072-aa6d-4a14-b1e2-51a370eea4e6",
     "showTitle": false,
     "tableResultSettingsMap": {},
     "title": ""
    }
   },
   "outputs": [],
   "source": [
    "df_constructor_schema = StructType(\n",
    "  fields=[\n",
    "    StructField(\"constructorId\", IntegerType(), True),\n",
    "    StructField(\"constructorRef\", StringType(), True),\n",
    "    StructField(\"name\", StringType(), True),\n",
    "    StructField(\"nationality\", StringType(), True),\n",
    "    StructField(\"url\", StringType(), True)\n",
    "])"
   ]
  },
  {
   "cell_type": "markdown",
   "metadata": {
    "application/vnd.databricks.v1+cell": {
     "cellMetadata": {},
     "inputWidgets": {},
     "nuid": "67bbf62b-b331-4fc1-98d2-bb170f50257b",
     "showTitle": false,
     "tableResultSettingsMap": {},
     "title": ""
    }
   },
   "source": [
    "### Schema para las tablas de resultados"
   ]
  },
  {
   "cell_type": "code",
   "execution_count": 0,
   "metadata": {
    "application/vnd.databricks.v1+cell": {
     "cellMetadata": {
      "byteLimit": 2048000,
      "rowLimit": 10000
     },
     "inputWidgets": {},
     "nuid": "250fafb8-8e48-48ce-a847-365fd6ea58bc",
     "showTitle": false,
     "tableResultSettingsMap": {},
     "title": ""
    }
   },
   "outputs": [],
   "source": [
    "df_result_schema = StructType(\n",
    "  fields=[\n",
    "    StructField(\"resultId\", IntegerType(), True),\n",
    "    StructField(\"raceId\", IntegerType(), True),\n",
    "    StructField(\"driverId\", IntegerType(), True),\n",
    "    StructField(\"constructorId\", IntegerType(), True),\n",
    "    StructField(\"number\", IntegerType(), True),\n",
    "    StructField(\"grid\", IntegerType(), True),\n",
    "    StructField(\"position\", IntegerType(), True),\n",
    "    StructField(\"positionText\", StringType(), True),\n",
    "    StructField(\"positionOrder\", IntegerType(), True),\n",
    "    StructField(\"points\", IntegerType(), True),\n",
    "    StructField(\"laps\", IntegerType(), True),\n",
    "    StructField(\"time\", StringType(), True),\n",
    "    StructField(\"milliseconds\", IntegerType(), True),\n",
    "    StructField(\"fastestLap\", IntegerType(), True),\n",
    "    StructField(\"rank\", IntegerType(), True),\n",
    "    StructField(\"fastestLapTime\", StringType(), True),\n",
    "    StructField(\"fastestLapSpeed\", FloatType(), True),\n",
    "    StructField(\"statusId\", StringType(), True)\n",
    "])"
   ]
  },
  {
   "cell_type": "markdown",
   "metadata": {
    "application/vnd.databricks.v1+cell": {
     "cellMetadata": {},
     "inputWidgets": {},
     "nuid": "336873f6-4a15-4aa9-bc85-f56c9b86facc",
     "showTitle": false,
     "tableResultSettingsMap": {},
     "title": ""
    }
   },
   "source": []
  },
  {
   "cell_type": "markdown",
   "metadata": {
    "application/vnd.databricks.v1+cell": {
     "cellMetadata": {},
     "inputWidgets": {},
     "nuid": "dfabf845-0cdc-455d-994d-84ae75d0cb7c",
     "showTitle": false,
     "tableResultSettingsMap": {},
     "title": ""
    }
   },
   "source": [
    "### Schema para las tablas de conductores\n"
   ]
  },
  {
   "cell_type": "code",
   "execution_count": 0,
   "metadata": {
    "application/vnd.databricks.v1+cell": {
     "cellMetadata": {
      "byteLimit": 2048000,
      "rowLimit": 10000
     },
     "inputWidgets": {},
     "nuid": "2523f98f-de7f-4bfd-93f5-e147afe2c0a5",
     "showTitle": false,
     "tableResultSettingsMap": {},
     "title": ""
    }
   },
   "outputs": [],
   "source": [
    "\n",
    "df_driver_schema = StructType(\n",
    "  fields=[\n",
    "    StructField(\"driverId\", IntegerType(), True),\n",
    "    StructField(\"duration\", StringType(), True),\n",
    "    StructField(\"lap\", IntegerType(), True),\n",
    "    StructField(\"milliseconds\", IntegerType(), True),\n",
    "    StructField(\"raceId\", IntegerType(), True),\n",
    "    StructField(\"stop\", IntegerType(), True),\n",
    "    StructField(\"time\", StringType(), True)\n",
    "])"
   ]
  },
  {
   "cell_type": "markdown",
   "metadata": {
    "application/vnd.databricks.v1+cell": {
     "cellMetadata": {},
     "inputWidgets": {},
     "nuid": "3375ee13-bfe4-4f47-a4d1-55c37e71ed6d",
     "showTitle": false,
     "tableResultSettingsMap": {},
     "title": ""
    }
   },
   "source": [
    "### Schema para las tablas de conductores"
   ]
  },
  {
   "cell_type": "markdown",
   "metadata": {
    "application/vnd.databricks.v1+cell": {
     "cellMetadata": {},
     "inputWidgets": {},
     "nuid": "ee559c34-b3ca-4ef0-8fcb-819788ac0428",
     "showTitle": false,
     "tableResultSettingsMap": {},
     "title": ""
    }
   },
   "source": []
  },
  {
   "cell_type": "markdown",
   "metadata": {
    "application/vnd.databricks.v1+cell": {
     "cellMetadata": {},
     "inputWidgets": {},
     "nuid": "5fdd893e-60cb-49f6-b67e-000b69eb3975",
     "showTitle": false,
     "tableResultSettingsMap": {},
     "title": ""
    }
   },
   "source": []
  },
  {
   "cell_type": "markdown",
   "metadata": {
    "application/vnd.databricks.v1+cell": {
     "cellMetadata": {},
     "inputWidgets": {},
     "nuid": "9a48e83c-d43a-44f7-ad3a-fd288fc15990",
     "showTitle": false,
     "tableResultSettingsMap": {},
     "title": ""
    }
   },
   "source": []
  },
  {
   "cell_type": "code",
   "execution_count": 0,
   "metadata": {
    "application/vnd.databricks.v1+cell": {
     "cellMetadata": {
      "byteLimit": 2048000,
      "implicitDf": true,
      "rowLimit": 10000
     },
     "inputWidgets": {},
     "nuid": "4e933e02-d250-4ee8-af0a-5cb1dc62c5be",
     "showTitle": false,
     "tableResultSettingsMap": {},
     "title": ""
    }
   },
   "outputs": [],
   "source": [
    "df_pit_stops_schema = StructType(\n",
    "    fields=[\n",
    "        StructField(\"driverId\", IntegerType(), True),\n",
    "        StructField(\"duration\", StringType(), True),\n",
    "        StructField(\"lap\", IntegerType(), True),\n",
    "        StructField(\"milliseconds\", IntegerType(), True),\n",
    "        StructField(\"raceId\", IntegerType(), True),\n",
    "        StructField(\"stop\", IntegerType(), True),\n",
    "        StructField(\"time\", StringType(), True)\n",
    "    ]\n",
    ")"
   ]
  },
  {
   "cell_type": "markdown",
   "metadata": {
    "application/vnd.databricks.v1+cell": {
     "cellMetadata": {},
     "inputWidgets": {},
     "nuid": "704eeeea-e02f-4644-8b0e-dc6bf31fe186",
     "showTitle": false,
     "tableResultSettingsMap": {},
     "title": ""
    }
   },
   "source": [
    "- ### Schema para las tablas de calificación"
   ]
  },
  {
   "cell_type": "code",
   "execution_count": 0,
   "metadata": {
    "application/vnd.databricks.v1+cell": {
     "cellMetadata": {
      "byteLimit": 2048000,
      "rowLimit": 10000
     },
     "inputWidgets": {},
     "nuid": "a4419e8a-3eb5-4453-9cb9-15e24c8f4a07",
     "showTitle": false,
     "tableResultSettingsMap": {},
     "title": ""
    }
   },
   "outputs": [],
   "source": [
    "df_qualifying_schema = StructType(\n",
    "    fields=[\n",
    "        StructField(\"constructorId\", IntegerType(), True),\n",
    "        StructField(\"driverId\", IntegerType(), True),\n",
    "        StructField(\"number\", IntegerType(), True),\n",
    "        StructField(\"position\", IntegerType(), True),\n",
    "        StructField(\"q1\", StringType(), True),\n",
    "        StructField(\"q2\", StringType(), True),\n",
    "        StructField(\"q3\", StringType(), True),\n",
    "        StructField(\"qualifyId\", IntegerType(), True),\n",
    "        StructField(\"raceId\", IntegerType(), True)\n",
    "    ]\n",
    ")"
   ]
  },
  {
   "cell_type": "markdown",
   "metadata": {
    "application/vnd.databricks.v1+cell": {
     "cellMetadata": {},
     "inputWidgets": {},
     "nuid": "cdc5bb56-8b85-4197-9aaf-4751a8c866fb",
     "showTitle": false,
     "tableResultSettingsMap": {},
     "title": ""
    }
   },
   "source": [
    "## Unity Catalog"
   ]
  },
  {
   "cell_type": "code",
   "execution_count": 0,
   "metadata": {
    "application/vnd.databricks.v1+cell": {
     "cellMetadata": {
      "byteLimit": 2048000,
      "implicitDf": true,
      "rowLimit": 10000
     },
     "inputWidgets": {},
     "nuid": "9b4a8337-0054-414f-a2a0-693b8a910a0a",
     "showTitle": false,
     "tableResultSettingsMap": {},
     "title": ""
    }
   },
   "outputs": [],
   "source": [
    "%sql\n",
    "CREATE SCHEMA IF NOT EXISTS medallion_architecture.tracking\n",
    "COMMENT 'En este schema va a ir guardada la informacion agregada'\n",
    ";"
   ]
  },
  {
   "cell_type": "code",
   "execution_count": 0,
   "metadata": {
    "application/vnd.databricks.v1+cell": {
     "cellMetadata": {
      "byteLimit": 2048000,
      "implicitDf": true,
      "rowLimit": 10000
     },
     "inputWidgets": {},
     "nuid": "88a62317-1828-4bde-a8b6-e7b1225c0282",
     "showTitle": false,
     "tableResultSettingsMap": {},
     "title": ""
    }
   },
   "outputs": [],
   "source": [
    "%sql\n",
    "CREATE TABLE IF NOT EXISTS medallion_architecture.tracking.summary(\n",
    "    TRANSACTION_DATE TIMESTAMP,\n",
    "    FOLDER_NAME STRING,\n",
    "    UUID STRING\n",
    ")"
   ]
  },
  {
   "cell_type": "markdown",
   "metadata": {
    "application/vnd.databricks.v1+cell": {
     "cellMetadata": {},
     "inputWidgets": {},
     "nuid": "668ef222-81af-4c61-9117-f05cddc44cfd",
     "showTitle": false,
     "tableResultSettingsMap": {},
     "title": ""
    }
   },
   "source": [
    "## Definición de funciones personalizadas"
   ]
  },
  {
   "cell_type": "code",
   "execution_count": 0,
   "metadata": {
    "application/vnd.databricks.v1+cell": {
     "cellMetadata": {
      "byteLimit": 2048000,
      "rowLimit": 10000
     },
     "inputWidgets": {},
     "nuid": "7eab176a-d31a-4f42-9861-f0b184c8be3c",
     "showTitle": false,
     "tableResultSettingsMap": {},
     "title": ""
    }
   },
   "outputs": [],
   "source": [
    "# Función para convertir las columnas de fecha a formato Date\n",
    "def converting_to_date(df: DataFrame, colname: str, date_format: str) -> DataFrame:\n",
    "    df = df.withColumn(\n",
    "        colname,\n",
    "        to_date(\n",
    "            concat(\n",
    "                substring(col(colname), 7, 2), \n",
    "                lit('/'),\n",
    "                substring(col(colname), 5, 2),\n",
    "                lit('/'),\n",
    "                substring(col(colname), 1, 4)\n",
    "            ),\n",
    "            date_format\n",
    "        ) \n",
    "    )\n",
    "    return(df)"
   ]
  },
  {
   "cell_type": "code",
   "execution_count": 0,
   "metadata": {
    "application/vnd.databricks.v1+cell": {
     "cellMetadata": {
      "byteLimit": 2048000,
      "rowLimit": 10000
     },
     "inputWidgets": {},
     "nuid": "9bd8b442-948f-47fb-a1d3-2fdc362fb1b6",
     "showTitle": false,
     "tableResultSettingsMap": {},
     "title": ""
    }
   },
   "outputs": [],
   "source": [
    "# Función para quitar los valores nulos\n",
    "def cleaning_nulls(df: DataFrame) -> DataFrame:\n",
    "    df = df.fillna({\n",
    "        \"CUST_CODE\": \"CUSTXXXXXXXXXX\",\n",
    "        \"seg_1\": \"NA\",\n",
    "        \"seg_2\": \"NA\"\n",
    "    })\n",
    "    return(df)"
   ]
  },
  {
   "cell_type": "code",
   "execution_count": 0,
   "metadata": {
    "application/vnd.databricks.v1+cell": {
     "cellMetadata": {
      "byteLimit": 2048000,
      "rowLimit": 10000
     },
     "inputWidgets": {},
     "nuid": "498a732d-bd7b-4014-b208-4f9fa3103c95",
     "showTitle": false,
     "tableResultSettingsMap": {},
     "title": ""
    }
   },
   "outputs": [],
   "source": [
    "def writing_info(df: DataFrame, table_name: str) -> None:\n",
    "    df.write \\\n",
    "    .mode(\"append\") \\\n",
    "    .format(\"delta\") \\\n",
    "    .saveAsTable(f\"{uc_location_aumented}{table_name}\")"
   ]
  },
  {
   "cell_type": "code",
   "execution_count": 0,
   "metadata": {
    "application/vnd.databricks.v1+cell": {
     "cellMetadata": {
      "byteLimit": 2048000,
      "rowLimit": 10000
     },
     "inputWidgets": {},
     "nuid": "b50e23f5-1bcd-4c11-ba9c-a674f6cb121d",
     "showTitle": false,
     "tableResultSettingsMap": {},
     "title": ""
    }
   },
   "outputs": [],
   "source": [
    "def  writing_tracking_table(raw_folders: list) -> None:\n",
    "     \n",
    "    raw_folders = [(folder,) for folder in raw_folders] \n",
    "\n",
    "    uuid_udf = udf(lambda: str(uuid.uuid4()), StringType())\n",
    "    \n",
    "    df_tracking = spark.createDataFrame(raw_folders,schema=['FOLDER_NAME'])\n",
    "    df_tracking = df_tracking.withColumn(\"UUID\", uuid_udf())\n",
    "    df_tracking = df_tracking.withColumn(\"TRANSACTION_DATE\", current_timestamp())\n",
    "\n",
    "    df_tracking.write \\\n",
    "        .mode(\"append\") \\\n",
    "        .format(\"delta\") \\\n",
    "        .option(\"mergeSchema\", \"true\") \\\n",
    "        .saveAsTable(\"medallion_architecture.tracking.summary\")"
   ]
  },
  {
   "cell_type": "markdown",
   "metadata": {
    "application/vnd.databricks.v1+cell": {
     "cellMetadata": {},
     "inputWidgets": {},
     "nuid": "d94736ed-9e99-41e0-8968-19168243a01e",
     "showTitle": false,
     "tableResultSettingsMap": {},
     "title": ""
    }
   },
   "source": [
    "## Ejecución del código"
   ]
  },
  {
   "cell_type": "code",
   "execution_count": 0,
   "metadata": {
    "application/vnd.databricks.v1+cell": {
     "cellMetadata": {
      "byteLimit": 2048000,
      "rowLimit": 10000
     },
     "inputWidgets": {},
     "nuid": "3182cc49-8c4f-4e42-90a1-7fe87236b1de",
     "showTitle": false,
     "tableResultSettingsMap": {},
     "title": ""
    }
   },
   "outputs": [],
   "source": [
    "folders = dbutils.fs.ls(raw_location)\n",
    "print(folders)"
   ]
  },
  {
   "cell_type": "code",
   "execution_count": 0,
   "metadata": {
    "application/vnd.databricks.v1+cell": {
     "cellMetadata": {
      "byteLimit": 2048000,
      "rowLimit": 10000
     },
     "inputWidgets": {},
     "nuid": "9d388c12-7ab7-4f8e-9a74-1f18f75e685b",
     "showTitle": false,
     "tableResultSettingsMap": {},
     "title": ""
    }
   },
   "outputs": [],
   "source": [
    "raw_folders = dbutils.fs.ls(raw_location)\n",
    "raw_folders = [folder[0] for folder in raw_folders]\n",
    "raw_folders"
   ]
  },
  {
   "cell_type": "code",
   "execution_count": 0,
   "metadata": {
    "application/vnd.databricks.v1+cell": {
     "cellMetadata": {
      "byteLimit": 2048000,
      "implicitDf": true,
      "rowLimit": 10000
     },
     "inputWidgets": {},
     "nuid": "49a7acaa-3b58-460c-b736-3510ff365f95",
     "showTitle": false,
     "tableResultSettingsMap": {},
     "title": ""
    }
   },
   "outputs": [],
   "source": [
    "df_folders = spark.sql(\"SELECT FOLDER_NAME FROM medallion_architecture.tracking.summary\")\n",
    "processed_folders = df_folders.select(\"FOLDER_NAME\").rdd.flatMap(lambda x: x).collect()\n",
    "processed_folders"
   ]
  },
  {
   "cell_type": "code",
   "execution_count": 0,
   "metadata": {
    "application/vnd.databricks.v1+cell": {
     "cellMetadata": {
      "byteLimit": 2048000,
      "implicitDf": true,
      "rowLimit": 10000
     },
     "inputWidgets": {},
     "nuid": "939aedd6-a38d-4387-99f1-4978b9515afe",
     "showTitle": false,
     "tableResultSettingsMap": {},
     "title": ""
    }
   },
   "outputs": [],
   "source": [
    "%sql\n",
    "CREATE SCHEMA IF NOT EXISTS medallion_architecture.aumented\n",
    "COMMENT 'En este schema va a ir guardada la informacion agregada'\n",
    ";"
   ]
  },
  {
   "cell_type": "code",
   "execution_count": 0,
   "metadata": {
    "application/vnd.databricks.v1+cell": {
     "cellMetadata": {
      "byteLimit": 2048000,
      "rowLimit": 10000
     },
     "inputWidgets": {},
     "nuid": "af13791c-307b-45b5-b2ae-3741c9ea9cdc",
     "showTitle": false,
     "tableResultSettingsMap": {},
     "title": ""
    }
   },
   "outputs": [],
   "source": [
    "if not processed_folders:\n",
    "\n",
    "    df_transactions = (\n",
    "    spark\n",
    "    .read\n",
    "    .format('csv')\n",
    "    .schema(df_transaction_schema)\n",
    "    .option('header', True)\n",
    "    .load(f\"{raw_location}/*/transactions_*.csv\")\n",
    "    )\n",
    "\n",
    "    df_time = (\n",
    "    spark\n",
    "    .read\n",
    "    .format('csv')\n",
    "    .schema(df_time_schema)\n",
    "    .option('header', True)\n",
    "    .load(f\"{raw_location}/*/time.csv\")\n",
    "    )\n",
    "\n",
    "    df_transactions = converting_to_date(df = df_transactions,colname = \"SHOP_DATE\",date_format = date_format)\n",
    "    df_transactions = cleaning_nulls(df_transactions)\n",
    "\n",
    "    writing_info(df=df_transactions, table_name=\"Transactions\")\n",
    "    writing_info(df=df_time, table_name=\"Time_table\")\n",
    "    writing_tracking_table(raw_folders)\n",
    "\n",
    "else:\n",
    "    for raw_folder in raw_folders:\n",
    "        if raw_folder in processed_folders:\n",
    "            print(f\"Folder: {raw_folder} already processed\")\n",
    "            pass\n",
    "        else:\n",
    "            df_transactions = (\n",
    "                spark\n",
    "                .read\n",
    "                .format('csv')\n",
    "                .schema(df_transaction_schema)\n",
    "                .option('header', True)\n",
    "                .load(f\"{raw_folder}transactions_*.csv\")\n",
    "                )\n",
    "\n",
    "            df_time = (\n",
    "                spark\n",
    "                .read\n",
    "                .format('csv')\n",
    "                .schema(df_time_schema)\n",
    "                .option('header', True)\n",
    "                .load(f\"{raw_folder}time.csv\")\n",
    "                )\n",
    "            \n",
    "            df_transactions = converting_to_date(df = df_transactions,colname = \"SHOP_DATE\",date_format = date_format)\n",
    "            df_transactions = cleaning_nulls(df_transactions)\n",
    "\n",
    "            writing_info(df=df_transactions, table_name=\"Transactions\")\n",
    "            writing_info(df=df_time, table_name=\"Time_table\")\n",
    "            writing_tracking_table([raw_folder])\n",
    "\n",
    "display(df_transactions)"
   ]
  },
  {
   "cell_type": "code",
   "execution_count": 0,
   "metadata": {
    "application/vnd.databricks.v1+cell": {
     "cellMetadata": {
      "byteLimit": 2048000,
      "implicitDf": true,
      "rowLimit": 10000
     },
     "inputWidgets": {},
     "nuid": "906f2c2d-dea9-47b4-a603-cdc15f0fd582",
     "showTitle": false,
     "tableResultSettingsMap": {},
     "title": ""
    }
   },
   "outputs": [],
   "source": [
    "%sql\n",
    "--DROP TABLE IF EXISTS medallion_architecture.aumented.transactions;\n",
    "--DROP TABLE IF EXISTS medallion_architecture.aumented.time_table;\n",
    "--DROP SCHEMA IF EXISTS medallion_architecture.raw;\n",
    "--DROP TABLE IF EXISTS medallion_architecture.tracking.summary"
   ]
  }
 ],
 "metadata": {
  "application/vnd.databricks.v1+notebook": {
   "dashboards": [],
   "environmentMetadata": null,
   "language": "python",
   "notebookMetadata": {
    "mostRecentlyExecutedCommandWithImplicitDF": {
     "commandId": -1,
     "dataframes": [
      "_sqldf"
     ]
    },
    "pythonIndentUnit": 4
   },
   "notebookName": "Movimiento 1 de crudo a aumentado",
   "widgets": {}
  }
 },
 "nbformat": 4,
 "nbformat_minor": 0
}
