{
 "cells": [
  {
   "cell_type": "markdown",
   "metadata": {
    "application/vnd.databricks.v1+cell": {
     "cellMetadata": {},
     "inputWidgets": {},
     "nuid": "3e4b1d78-ba61-45ad-a4df-08cfcb2e4f00",
     "showTitle": false,
     "title": ""
    }
   },
   "source": [
    "# Mover información cruda a aumentada"
   ]
  },
  {
   "cell_type": "markdown",
   "metadata": {
    "application/vnd.databricks.v1+cell": {
     "cellMetadata": {},
     "inputWidgets": {},
     "nuid": "8181ab46-0243-4993-834b-70a06e7b0b84",
     "showTitle": false,
     "title": ""
    }
   },
   "source": [
    "## Importamos librerías"
   ]
  },
  {
   "cell_type": "code",
   "execution_count": 0,
   "metadata": {
    "application/vnd.databricks.v1+cell": {
     "cellMetadata": {
      "byteLimit": 2048000,
      "rowLimit": 10000
     },
     "inputWidgets": {},
     "nuid": "4de2bdb0-c7ce-4ea6-82f1-6809984fe60a",
     "showTitle": false,
     "title": ""
    }
   },
   "outputs": [],
   "source": [
    "from pyspark.sql.types import *\n",
    "from pyspark.sql.functions import *\n",
    "import uuid"
   ]
  },
  {
   "cell_type": "markdown",
   "metadata": {
    "application/vnd.databricks.v1+cell": {
     "cellMetadata": {},
     "inputWidgets": {},
     "nuid": "5dfdbc0e-fc61-4912-a935-20f762f947b8",
     "showTitle": false,
     "title": ""
    }
   },
   "source": [
    "## Creamos variables claves del proyecto"
   ]
  },
  {
   "cell_type": "code",
   "execution_count": 0,
   "metadata": {
    "application/vnd.databricks.v1+cell": {
     "cellMetadata": {
      "byteLimit": 2048000,
      "rowLimit": 10000
     },
     "inputWidgets": {},
     "nuid": "f49e0067-9377-4101-ad75-f105c724d5e3",
     "showTitle": false,
     "title": ""
    }
   },
   "outputs": [],
   "source": [
    "# Variables de ubicación de archivos\n",
    "dl_location = 'abfss://dataengineering@bidatareposig3kquinteroc.dfs.core.windows.net/'\n",
    "raw_location = dl_location + 'RAW/'\n",
    "\n",
    "uc_location_aumented = 'medallion_architecture.aumented.'\n",
    "\n",
    "# Otras variables\n",
    "date_format = 'dd/MM/yyyy'"
   ]
  },
  {
   "cell_type": "markdown",
   "metadata": {
    "application/vnd.databricks.v1+cell": {
     "cellMetadata": {},
     "inputWidgets": {},
     "nuid": "923de95a-d97c-4389-b109-21e92d212b22",
     "showTitle": false,
     "title": ""
    }
   },
   "source": [
    "## Creamos schemas para las diferentes tablas a leer"
   ]
  },
  {
   "cell_type": "markdown",
   "metadata": {
    "application/vnd.databricks.v1+cell": {
     "cellMetadata": {},
     "inputWidgets": {},
     "nuid": "4d27b1b9-c6fc-4b44-b806-3e78b9d46683",
     "showTitle": false,
     "title": ""
    }
   },
   "source": [
    "### Schema para las tablas transaccionales"
   ]
  },
  {
   "cell_type": "code",
   "execution_count": 0,
   "metadata": {
    "application/vnd.databricks.v1+cell": {
     "cellMetadata": {
      "byteLimit": 2048000,
      "rowLimit": 10000
     },
     "inputWidgets": {},
     "nuid": "7afb1bd5-c032-4d3f-b8a3-3d8cb2e5874e",
     "showTitle": false,
     "title": ""
    }
   },
   "outputs": [],
   "source": [
    "df_transaction_schema = StructType(\n",
    "  fields=[\n",
    "    StructField('SHOP_WEEK', StringType(),True),\n",
    "    StructField('SHOP_DATE', StringType(), True),\n",
    "    StructField('SHOP_WEEKDAY',  StringType(), True),\n",
    "    StructField('SHOP_HOUR', StringType(), True),\n",
    "    StructField('QUANTITY', DoubleType(), True),\n",
    "    StructField('SPEND', DoubleType(), True),\n",
    "    StructField('PROD_CODE', StringType(), True),\n",
    "    StructField('PROD_CODE_10', StringType(), True),\n",
    "    StructField('PROD_CODE_20', StringType(), True),\n",
    "    StructField('PROD_CODE_30', StringType(), True),\n",
    "    StructField('PROD_CODE_40', StringType(), True),\n",
    "    StructField('CUST_CODE', StringType(), True),\n",
    "    StructField('seg_1', StringType(), True),\n",
    "    StructField('seg_2', StringType(), True),\n",
    "    StructField('BASKET_ID', StringType(), True),\n",
    "    StructField('BASKET_SIZE', StringType(), True),\n",
    "    StructField('BASKET_PRICE_SENSITIVITY', StringType(), True),\n",
    "    StructField('BASKET_TYPE', StringType(), True),\n",
    "    StructField('BASKET_DOMINANT_MISSION', StringType(), True),\n",
    "    StructField('STORE_CODE', StringType(), True),\n",
    "    StructField('STORE_FORMAT', StringType(), True),\n",
    "    StructField('STORE_REGION', StringType(), True)\n",
    "])"
   ]
  },
  {
   "cell_type": "markdown",
   "metadata": {
    "application/vnd.databricks.v1+cell": {
     "cellMetadata": {},
     "inputWidgets": {},
     "nuid": "275f3e4e-e7d6-49f7-8815-e653ca7eed70",
     "showTitle": false,
     "title": ""
    }
   },
   "source": [
    "### Schema para las tablas de fecha"
   ]
  },
  {
   "cell_type": "code",
   "execution_count": 0,
   "metadata": {
    "application/vnd.databricks.v1+cell": {
     "cellMetadata": {
      "byteLimit": 2048000,
      "rowLimit": 10000
     },
     "inputWidgets": {},
     "nuid": "3c32c072-aa6d-4a14-b1e2-51a370eea4e6",
     "showTitle": false,
     "title": ""
    }
   },
   "outputs": [],
   "source": [
    "df_time_schema = StructType(\n",
    "  fields=[\n",
    "    StructField('shop_week', StringType(),True),\n",
    "    StructField('date_from', StringType(), True),\n",
    "    StructField('date_to',  StringType(), True)\n",
    "])"
   ]
  },
  {
   "cell_type": "markdown",
   "metadata": {
    "application/vnd.databricks.v1+cell": {
     "cellMetadata": {},
     "inputWidgets": {},
     "nuid": "cdc5bb56-8b85-4197-9aaf-4751a8c866fb",
     "showTitle": false,
     "title": ""
    }
   },
   "source": [
    "## Unity Catalog"
   ]
  },
  {
   "cell_type": "code",
   "execution_count": 0,
   "metadata": {
    "application/vnd.databricks.v1+cell": {
     "cellMetadata": {
      "byteLimit": 2048000,
      "implicitDf": true,
      "rowLimit": 10000
     },
     "inputWidgets": {},
     "nuid": "9b4a8337-0054-414f-a2a0-693b8a910a0a",
     "showTitle": false,
     "title": ""
    }
   },
   "outputs": [],
   "source": [
    "%sql\n",
    "CREATE SCHEMA IF NOT EXISTS medallion_architecture.tracking\n",
    "COMMENT 'En este schema va a ir guardada la informacion agregada'\n",
    ";"
   ]
  },
  {
   "cell_type": "code",
   "execution_count": 0,
   "metadata": {
    "application/vnd.databricks.v1+cell": {
     "cellMetadata": {
      "byteLimit": 2048000,
      "implicitDf": true,
      "rowLimit": 10000
     },
     "inputWidgets": {},
     "nuid": "88a62317-1828-4bde-a8b6-e7b1225c0282",
     "showTitle": false,
     "title": ""
    }
   },
   "outputs": [],
   "source": [
    "%sql\n",
    "CREATE TABLE IF NOT EXISTS medallion_architecture.tracking.summary(\n",
    "    TRANSACTION_DATE TIMESTAMP,\n",
    "    FOLDER_NAME STRING,\n",
    "    UUID STRING\n",
    ")"
   ]
  },
  {
   "cell_type": "markdown",
   "metadata": {
    "application/vnd.databricks.v1+cell": {
     "cellMetadata": {},
     "inputWidgets": {},
     "nuid": "668ef222-81af-4c61-9117-f05cddc44cfd",
     "showTitle": false,
     "title": ""
    }
   },
   "source": [
    "## Definición de funciones personalizadas"
   ]
  },
  {
   "cell_type": "code",
   "execution_count": 0,
   "metadata": {
    "application/vnd.databricks.v1+cell": {
     "cellMetadata": {
      "byteLimit": 2048000,
      "rowLimit": 10000
     },
     "inputWidgets": {},
     "nuid": "7eab176a-d31a-4f42-9861-f0b184c8be3c",
     "showTitle": false,
     "title": ""
    }
   },
   "outputs": [],
   "source": [
    "# Función para convertir las columnas de fecha a formato Date\n",
    "def converting_to_date(df: DataFrame, colname: str, date_format: str) -> DataFrame:\n",
    "    df = df.withColumn(\n",
    "        colname,\n",
    "        to_date(\n",
    "            concat(\n",
    "                substring(col(colname), 7, 2), \n",
    "                lit('/'),\n",
    "                substring(col(colname), 5, 2),\n",
    "                lit('/'),\n",
    "                substring(col(colname), 1, 4)\n",
    "            ),\n",
    "            date_format\n",
    "        ) \n",
    "    )\n",
    "    return(df)"
   ]
  },
  {
   "cell_type": "code",
   "execution_count": 0,
   "metadata": {
    "application/vnd.databricks.v1+cell": {
     "cellMetadata": {
      "byteLimit": 2048000,
      "rowLimit": 10000
     },
     "inputWidgets": {},
     "nuid": "9bd8b442-948f-47fb-a1d3-2fdc362fb1b6",
     "showTitle": false,
     "title": ""
    }
   },
   "outputs": [],
   "source": [
    "# Función para quitar los valores nulos\n",
    "def cleaning_nulls(df: DataFrame) -> DataFrame:\n",
    "    df = df.fillna({\n",
    "        \"CUST_CODE\": \"CUSTXXXXXXXXXX\",\n",
    "        \"seg_1\": \"NA\",\n",
    "        \"seg_2\": \"NA\"\n",
    "    })\n",
    "    return(df)"
   ]
  },
  {
   "cell_type": "code",
   "execution_count": 0,
   "metadata": {
    "application/vnd.databricks.v1+cell": {
     "cellMetadata": {
      "byteLimit": 2048000,
      "rowLimit": 10000
     },
     "inputWidgets": {},
     "nuid": "498a732d-bd7b-4014-b208-4f9fa3103c95",
     "showTitle": false,
     "title": ""
    }
   },
   "outputs": [],
   "source": [
    "def writing_info(df: DataFrame, table_name: str) -> None:\n",
    "    df.write \\\n",
    "    .mode(\"append\") \\\n",
    "    .format(\"delta\") \\\n",
    "    .saveAsTable(f\"{uc_location_aumented}{table_name}\")"
   ]
  },
  {
   "cell_type": "code",
   "execution_count": 0,
   "metadata": {
    "application/vnd.databricks.v1+cell": {
     "cellMetadata": {
      "byteLimit": 2048000,
      "rowLimit": 10000
     },
     "inputWidgets": {},
     "nuid": "b50e23f5-1bcd-4c11-ba9c-a674f6cb121d",
     "showTitle": false,
     "title": ""
    }
   },
   "outputs": [],
   "source": [
    "def  writing_tracking_table(raw_folders: list) -> None:\n",
    "     \n",
    "    raw_folders = [(folder,) for folder in raw_folders] \n",
    "\n",
    "    uuid_udf = udf(lambda: str(uuid.uuid4()), StringType())\n",
    "    \n",
    "    df_tracking = spark.createDataFrame(raw_folders,schema=['FOLDER_NAME'])\n",
    "    df_tracking = df_tracking.withColumn(\"UUID\", uuid_udf())\n",
    "    df_tracking = df_tracking.withColumn(\"TRANSACTION_DATE\", current_timestamp())\n",
    "\n",
    "    df_tracking.write \\\n",
    "        .mode(\"append\") \\\n",
    "        .format(\"delta\") \\\n",
    "        .option(\"mergeSchema\", \"true\") \\\n",
    "        .saveAsTable(\"medallion_architecture.tracking.summary\")"
   ]
  },
  {
   "cell_type": "markdown",
   "metadata": {
    "application/vnd.databricks.v1+cell": {
     "cellMetadata": {},
     "inputWidgets": {},
     "nuid": "d94736ed-9e99-41e0-8968-19168243a01e",
     "showTitle": false,
     "title": ""
    }
   },
   "source": [
    "## Ejecución del código"
   ]
  },
  {
   "cell_type": "code",
   "execution_count": 0,
   "metadata": {
    "application/vnd.databricks.v1+cell": {
     "cellMetadata": {
      "byteLimit": 2048000,
      "rowLimit": 10000
     },
     "inputWidgets": {},
     "nuid": "3182cc49-8c4f-4e42-90a1-7fe87236b1de",
     "showTitle": false,
     "title": ""
    }
   },
   "outputs": [],
   "source": [
    "folders = dbutils.fs.ls(raw_location)\n",
    "print(folders)"
   ]
  },
  {
   "cell_type": "code",
   "execution_count": 0,
   "metadata": {
    "application/vnd.databricks.v1+cell": {
     "cellMetadata": {
      "byteLimit": 2048000,
      "rowLimit": 10000
     },
     "inputWidgets": {},
     "nuid": "9d388c12-7ab7-4f8e-9a74-1f18f75e685b",
     "showTitle": false,
     "title": ""
    }
   },
   "outputs": [],
   "source": [
    "raw_folders = dbutils.fs.ls(raw_location)\n",
    "raw_folders = [folder[0] for folder in raw_folders]\n",
    "raw_folders"
   ]
  },
  {
   "cell_type": "code",
   "execution_count": 0,
   "metadata": {
    "application/vnd.databricks.v1+cell": {
     "cellMetadata": {
      "byteLimit": 2048000,
      "implicitDf": true,
      "rowLimit": 10000
     },
     "inputWidgets": {},
     "nuid": "49a7acaa-3b58-460c-b736-3510ff365f95",
     "showTitle": false,
     "title": ""
    }
   },
   "outputs": [],
   "source": [
    "df_folders = spark.sql(\"SELECT FOLDER_NAME FROM medallion_architecture.tracking.summary\")\n",
    "processed_folders = df_folders.select(\"FOLDER_NAME\").rdd.flatMap(lambda x: x).collect()\n",
    "processed_folders"
   ]
  },
  {
   "cell_type": "code",
   "execution_count": 0,
   "metadata": {
    "application/vnd.databricks.v1+cell": {
     "cellMetadata": {
      "byteLimit": 2048000,
      "implicitDf": true,
      "rowLimit": 10000
     },
     "inputWidgets": {},
     "nuid": "939aedd6-a38d-4387-99f1-4978b9515afe",
     "showTitle": false,
     "title": ""
    }
   },
   "outputs": [],
   "source": [
    "%sql\n",
    "CREATE SCHEMA IF NOT EXISTS medallion_architecture.aumented\n",
    "COMMENT 'En este schema va a ir guardada la informacion agregada'\n",
    ";"
   ]
  },
  {
   "cell_type": "code",
   "execution_count": 0,
   "metadata": {
    "application/vnd.databricks.v1+cell": {
     "cellMetadata": {
      "byteLimit": 2048000,
      "rowLimit": 10000
     },
     "inputWidgets": {},
     "nuid": "af13791c-307b-45b5-b2ae-3741c9ea9cdc",
     "showTitle": false,
     "title": ""
    }
   },
   "outputs": [],
   "source": [
    "if not processed_folders:\n",
    "\n",
    "    df_transactions = (\n",
    "    spark\n",
    "    .read\n",
    "    .format('csv')\n",
    "    .schema(df_transaction_schema)\n",
    "    .option('header', True)\n",
    "    .load(f\"{raw_location}/*/transactions_*.csv\")\n",
    "    )\n",
    "\n",
    "    df_time = (\n",
    "    spark\n",
    "    .read\n",
    "    .format('csv')\n",
    "    .schema(df_time_schema)\n",
    "    .option('header', True)\n",
    "    .load(f\"{raw_location}/*/time.csv\")\n",
    "    )\n",
    "\n",
    "    df_transactions = converting_to_date(df = df_transactions,colname = \"SHOP_DATE\",date_format = date_format)\n",
    "    df_transactions = cleaning_nulls(df_transactions)\n",
    "\n",
    "    writing_info(df=df_transactions, table_name=\"Transactions\")\n",
    "    writing_info(df=df_time, table_name=\"Time_table\")\n",
    "    writing_tracking_table(raw_folders)\n",
    "\n",
    "else:\n",
    "    for raw_folder in raw_folders:\n",
    "        if raw_folder in processed_folders:\n",
    "            print(f\"Folder: {raw_folder} already processed\")\n",
    "            pass\n",
    "        else:\n",
    "            df_transactions = (\n",
    "                spark\n",
    "                .read\n",
    "                .format('csv')\n",
    "                .schema(df_transaction_schema)\n",
    "                .option('header', True)\n",
    "                .load(f\"{raw_folder}transactions_*.csv\")\n",
    "                )\n",
    "\n",
    "            df_time = (\n",
    "                spark\n",
    "                .read\n",
    "                .format('csv')\n",
    "                .schema(df_time_schema)\n",
    "                .option('header', True)\n",
    "                .load(f\"{raw_folder}time.csv\")\n",
    "                )\n",
    "            \n",
    "            df_transactions = converting_to_date(df = df_transactions,colname = \"SHOP_DATE\",date_format = date_format)\n",
    "            df_transactions = cleaning_nulls(df_transactions)\n",
    "\n",
    "            writing_info(df=df_transactions, table_name=\"Transactions\")\n",
    "            writing_info(df=df_time, table_name=\"Time_table\")\n",
    "            writing_tracking_table([raw_folder])\n",
    "\n",
    "display(df_transactions)"
   ]
  },
  {
   "cell_type": "code",
   "execution_count": 0,
   "metadata": {
    "application/vnd.databricks.v1+cell": {
     "cellMetadata": {
      "byteLimit": 2048000,
      "implicitDf": true,
      "rowLimit": 10000
     },
     "inputWidgets": {},
     "nuid": "906f2c2d-dea9-47b4-a603-cdc15f0fd582",
     "showTitle": false,
     "title": ""
    }
   },
   "outputs": [],
   "source": [
    "%sql\n",
    "--DROP TABLE IF EXISTS medallion_architecture.aumented.transactions;\n",
    "--DROP TABLE IF EXISTS medallion_architecture.aumented.time_table;\n",
    "--DROP SCHEMA IF EXISTS medallion_architecture.raw;\n",
    "--DROP TABLE IF EXISTS medallion_architecture.tracking.summary"
   ]
  }
 ],
 "metadata": {
  "application/vnd.databricks.v1+notebook": {
   "dashboards": [],
   "environmentMetadata": null,
   "language": "python",
   "notebookMetadata": {
    "mostRecentlyExecutedCommandWithImplicitDF": {
     "commandId": 2466283443489500,
     "dataframes": [
      "_sqldf"
     ]
    },
    "pythonIndentUnit": 4
   },
   "notebookName": "Movimiento 1 de crudo a aumentado",
   "widgets": {}
  }
 },
 "nbformat": 4,
 "nbformat_minor": 0
}
